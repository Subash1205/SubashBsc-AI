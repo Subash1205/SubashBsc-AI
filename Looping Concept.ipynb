{
 "cells": [
  {
   "cell_type": "markdown",
   "id": "1e9ac0d3",
   "metadata": {},
   "source": [
    "# Looping"
   ]
  },
  {
   "cell_type": "code",
   "execution_count": 26,
   "id": "777f6028",
   "metadata": {},
   "outputs": [],
   "source": [
    "num = (1,2,3,4,\"subash\",\"perumal\",\"nandi\",5,6)\n"
   ]
  },
  {
   "cell_type": "code",
   "execution_count": 27,
   "id": "131ba75d",
   "metadata": {},
   "outputs": [],
   "source": [
    "bscai = ('aarav','mugean','kaviya','oviya')"
   ]
  },
  {
   "cell_type": "code",
   "execution_count": 28,
   "id": "b003f185",
   "metadata": {},
   "outputs": [
    {
     "name": "stdout",
     "output_type": "stream",
     "text": [
      "1\n",
      "2\n",
      "3\n",
      "4\n",
      "riya\n",
      "abi\n",
      "nandi\n",
      "5\n",
      "6\n"
     ]
    }
   ],
   "source": [
    "num = (1,2,3,4,\"subash\",\"perumal\",\"nandi\",5,6)\n",
    "for i in num:\n",
    "    print(i)"
   ]
  },
  {
   "cell_type": "code",
   "execution_count": 29,
   "id": "76bdfa3c",
   "metadata": {
    "scrolled": true
   },
   "outputs": [
    {
     "name": "stdout",
     "output_type": "stream",
     "text": [
      "1\n",
      "2\n",
      "3\n",
      "4\n",
      "riya\n",
      "abi\n",
      "nandi\n",
      "5\n",
      "6\n"
     ]
    }
   ],
   "source": [
    "num = (1,2,3,4,\"subash\",\"perumal\",\"nandi\",5,6)\n",
    "for z in num:\n",
    "    print(z)"
   ]
  },
  {
   "cell_type": "code",
   "execution_count": 30,
   "id": "c427d296",
   "metadata": {},
   "outputs": [
    {
     "name": "stdout",
     "output_type": "stream",
     "text": [
      "1\n",
      "2\n",
      "3\n",
      "4\n",
      "riya\n",
      "abi\n",
      "nandi\n",
      "5\n",
      "6\n"
     ]
    }
   ],
   "source": [
    "num = (1,2,3,4,\"subash\",\"abi\",\"nandi\",5,6)\n",
    "for c in num:\n",
    "    print(c)"
   ]
  },
  {
   "cell_type": "code",
   "execution_count": 31,
   "id": "846404e5",
   "metadata": {},
   "outputs": [],
   "source": [
    "l = [1,2,3,4,5,6,7,8,9,10]\n"
   ]
  },
  {
   "cell_type": "code",
   "execution_count": 32,
   "id": "8dec4553",
   "metadata": {},
   "outputs": [
    {
     "ename": "SyntaxError",
     "evalue": "invalid syntax (1555096734.py, line 3)",
     "output_type": "error",
     "traceback": [
      "\u001b[1;36m  File \u001b[1;32m\"C:\\Users\\Admin\\AppData\\Local\\Temp\\ipykernel_6848\\1555096734.py\"\u001b[1;36m, line \u001b[1;32m3\u001b[0m\n\u001b[1;33m    print(c\"is even\")\u001b[0m\n\u001b[1;37m           ^\u001b[0m\n\u001b[1;31mSyntaxError\u001b[0m\u001b[1;31m:\u001b[0m invalid syntax\n"
     ]
    }
   ],
   "source": [
    "for c in l:\n",
    "    if int (c)%2==0:\n",
    "        print(c\"is even\")\n",
    "\n",
    "    else:\n",
    "        print(c,\"is odd\")\n"
   ]
  },
  {
   "cell_type": "code",
   "execution_count": 33,
   "id": "f30a4bf0",
   "metadata": {},
   "outputs": [
    {
     "name": "stdout",
     "output_type": "stream",
     "text": [
      "Enter a number:7\n",
      "the sum is 0\n",
      "the sum is 1\n",
      "the sum is 3\n",
      "the sum is 6\n",
      "the sum is 10\n",
      "the sum is 15\n",
      "the sum is 21\n",
      "the sum is 28\n"
     ]
    }
   ],
   "source": [
    "n = input(\"Enter a number:\")\n",
    "val = 0\n",
    "i = 0\n",
    "while i <= int(n):\n",
    "    val +=i\n",
    "    i +=1\n",
    "    print(f\"the sum is {val}\")"
   ]
  },
  {
   "cell_type": "code",
   "execution_count": 34,
   "id": "007c6f8a",
   "metadata": {},
   "outputs": [
    {
     "name": "stdout",
     "output_type": "stream",
     "text": [
      "Inside loop\n",
      "Inside loop\n",
      "Inside loop\n",
      "Inside loop\n",
      "Inside loop\n",
      "Inside loop\n",
      "Inside loop\n",
      "Inside loop\n",
      "Inside loop\n",
      "Inside loop\n",
      "Inside loop\n",
      "Inside loop\n",
      "Inside loop\n",
      "Inside loop\n",
      "Inside loop\n",
      "Get out of loop\n"
     ]
    }
   ],
   "source": [
    "counter = 0\n",
    "\n",
    "while counter < 15:\n",
    "    print(\"Inside loop\")\n",
    "    counter = counter + 1\n",
    "else:\n",
    "    print(\"Get out of loop\")"
   ]
  },
  {
   "cell_type": "code",
   "execution_count": 4,
   "id": "1105d9c2",
   "metadata": {},
   "outputs": [
    {
     "name": "stdout",
     "output_type": "stream",
     "text": [
      "S\n",
      "u\n",
      "b\n",
      "a\n",
      "s\n",
      "The end\n"
     ]
    }
   ],
   "source": [
    "for val in \"Subash\":\n",
    "    if val ==\"h\":\n",
    "        break\n",
    "    print(val)\n",
    "    \n",
    "print(\"The end\")    "
   ]
  },
  {
   "cell_type": "markdown",
   "id": "0c028c0e",
   "metadata": {},
   "source": [
    "# Function"
   ]
  },
  {
   "cell_type": "code",
   "execution_count": 1,
   "id": "02f263fd",
   "metadata": {},
   "outputs": [],
   "source": [
    "def intro():\n",
    "    print (\"Hello ,my name is Subash\")"
   ]
  },
  {
   "cell_type": "code",
   "execution_count": 2,
   "id": "d9f45812",
   "metadata": {},
   "outputs": [
    {
     "name": "stdout",
     "output_type": "stream",
     "text": [
      "Hello ,my name is Subash\n"
     ]
    }
   ],
   "source": [
    "intro()"
   ]
  },
  {
   "cell_type": "code",
   "execution_count": 37,
   "id": "bca7ac88",
   "metadata": {},
   "outputs": [],
   "source": [
    "def sumval(a,b):\n",
    "    return a+b"
   ]
  },
  {
   "cell_type": "code",
   "execution_count": 38,
   "id": "9aad5a8e",
   "metadata": {},
   "outputs": [
    {
     "name": "stdout",
     "output_type": "stream",
     "text": [
      "Enter the First number:40\n",
      "Enter the second number:44\n",
      "The sum is 84\n"
     ]
    }
   ],
   "source": [
    "num1 = int(input(\"Enter the First number:\"))\n",
    "num2 = int(input(\"Enter the second number:\"))\n",
    "add = sumval(num1,num2)\n",
    "print(f\"The sum is {add}\")"
   ]
  },
  {
   "cell_type": "code",
   "execution_count": null,
   "id": "dd35c3b6",
   "metadata": {},
   "outputs": [],
   "source": []
  }
 ],
 "metadata": {
  "kernelspec": {
   "display_name": "Python 3 (ipykernel)",
   "language": "python",
   "name": "python3"
  },
  "language_info": {
   "codemirror_mode": {
    "name": "ipython",
    "version": 3
   },
   "file_extension": ".py",
   "mimetype": "text/x-python",
   "name": "python",
   "nbconvert_exporter": "python",
   "pygments_lexer": "ipython3",
   "version": "3.9.13"
  }
 },
 "nbformat": 4,
 "nbformat_minor": 5
}
